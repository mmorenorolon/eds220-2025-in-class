{
 "cells": [
  {
   "cell_type": "code",
   "execution_count": 13,
   "id": "797e6935",
   "metadata": {},
   "outputs": [],
   "source": [
    "import os\n",
    "import pandas as pd\n",
    "import geopandas as gpd\n",
    "from pandas.api.types import is_string_dtype, is_numeric_dtype\n",
    "import matplotlib.pyplot as plt\n",
    "\n",
    "# Display all columns when looking at dataframes\n",
    "pd.set_option(\"display.max.columns\", None)"
   ]
  },
  {
   "cell_type": "markdown",
   "id": "d7ca9533",
   "metadata": {},
   "source": [
    "- Extract data from a csv to build a geopandas dataframe\n",
    "- do more customizations\n",
    "- go over strategies to streamline code"
   ]
  },
  {
   "cell_type": "code",
   "execution_count": 14,
   "id": "22d42186",
   "metadata": {},
   "outputs": [
    {
     "data": {
      "text/html": [
       "<div>\n",
       "<style scoped>\n",
       "    .dataframe tbody tr th:only-of-type {\n",
       "        vertical-align: middle;\n",
       "    }\n",
       "\n",
       "    .dataframe tbody tr th {\n",
       "        vertical-align: top;\n",
       "    }\n",
       "\n",
       "    .dataframe thead th {\n",
       "        text-align: right;\n",
       "    }\n",
       "</style>\n",
       "<table border=\"1\" class=\"dataframe\">\n",
       "  <thead>\n",
       "    <tr style=\"text-align: right;\">\n",
       "      <th></th>\n",
       "      <th>objectid</th>\n",
       "      <th>plant_code</th>\n",
       "      <th>plant_name</th>\n",
       "      <th>utility_id</th>\n",
       "      <th>utility_name</th>\n",
       "      <th>sector_name</th>\n",
       "      <th>street_address</th>\n",
       "      <th>city</th>\n",
       "      <th>county</th>\n",
       "      <th>state</th>\n",
       "      <th>zip</th>\n",
       "      <th>primsource</th>\n",
       "      <th>source_desc</th>\n",
       "      <th>tech_desc</th>\n",
       "      <th>install_mw</th>\n",
       "      <th>total_mw</th>\n",
       "      <th>bat_mw</th>\n",
       "      <th>bio_mw</th>\n",
       "      <th>coal_mw</th>\n",
       "      <th>geo_mw</th>\n",
       "      <th>hydro_mw</th>\n",
       "      <th>hydrops_mw</th>\n",
       "      <th>ng_mw</th>\n",
       "      <th>nuclear_mw</th>\n",
       "      <th>crude_mw</th>\n",
       "      <th>solar_mw</th>\n",
       "      <th>wind_mw</th>\n",
       "      <th>other_mw</th>\n",
       "      <th>source</th>\n",
       "      <th>period</th>\n",
       "      <th>longitude</th>\n",
       "      <th>latitude</th>\n",
       "    </tr>\n",
       "  </thead>\n",
       "  <tbody>\n",
       "    <tr>\n",
       "      <th>0</th>\n",
       "      <td>11570</td>\n",
       "      <td>1</td>\n",
       "      <td>Sand Point</td>\n",
       "      <td>63560</td>\n",
       "      <td>TDX Sand Point Generating, LLC</td>\n",
       "      <td>Electric Utility</td>\n",
       "      <td>100 Power Plant Way</td>\n",
       "      <td>Sand Point</td>\n",
       "      <td>Aleutians East</td>\n",
       "      <td>Alaska</td>\n",
       "      <td>99661.0</td>\n",
       "      <td>petroleum</td>\n",
       "      <td>Petroleum = 1.3 MW, Wind = 0.4 MW</td>\n",
       "      <td>Petroleum Liquids; Onshore Wind Turbine;</td>\n",
       "      <td>3.7</td>\n",
       "      <td>1.7</td>\n",
       "      <td>NaN</td>\n",
       "      <td>NaN</td>\n",
       "      <td>NaN</td>\n",
       "      <td>NaN</td>\n",
       "      <td>NaN</td>\n",
       "      <td>NaN</td>\n",
       "      <td>NaN</td>\n",
       "      <td>NaN</td>\n",
       "      <td>1.3</td>\n",
       "      <td>NaN</td>\n",
       "      <td>0.4</td>\n",
       "      <td>NaN</td>\n",
       "      <td>EIA-860, EIA-860M and EIA-923</td>\n",
       "      <td>202305.0</td>\n",
       "      <td>-160.497222</td>\n",
       "      <td>55.339722</td>\n",
       "    </tr>\n",
       "    <tr>\n",
       "      <th>1</th>\n",
       "      <td>11571</td>\n",
       "      <td>2</td>\n",
       "      <td>Bankhead Dam</td>\n",
       "      <td>195</td>\n",
       "      <td>Alabama Power Co</td>\n",
       "      <td>Electric Utility</td>\n",
       "      <td>19001 Lock 17 Road</td>\n",
       "      <td>Northport</td>\n",
       "      <td>Tuscaloosa</td>\n",
       "      <td>Alabama</td>\n",
       "      <td>35476.0</td>\n",
       "      <td>hydroelectric</td>\n",
       "      <td>Hydroelectric = 53 MW</td>\n",
       "      <td>Conventional Hydroelectric</td>\n",
       "      <td>53.9</td>\n",
       "      <td>53.0</td>\n",
       "      <td>NaN</td>\n",
       "      <td>NaN</td>\n",
       "      <td>NaN</td>\n",
       "      <td>NaN</td>\n",
       "      <td>53.0</td>\n",
       "      <td>NaN</td>\n",
       "      <td>NaN</td>\n",
       "      <td>NaN</td>\n",
       "      <td>NaN</td>\n",
       "      <td>NaN</td>\n",
       "      <td>NaN</td>\n",
       "      <td>NaN</td>\n",
       "      <td>EIA-860, EIA-860M and EIA-923</td>\n",
       "      <td>202305.0</td>\n",
       "      <td>-87.356823</td>\n",
       "      <td>33.458665</td>\n",
       "    </tr>\n",
       "    <tr>\n",
       "      <th>2</th>\n",
       "      <td>11572</td>\n",
       "      <td>3</td>\n",
       "      <td>Barry</td>\n",
       "      <td>195</td>\n",
       "      <td>Alabama Power Co</td>\n",
       "      <td>Electric Utility</td>\n",
       "      <td>North Highway 43</td>\n",
       "      <td>Bucks</td>\n",
       "      <td>Mobile</td>\n",
       "      <td>Alabama</td>\n",
       "      <td>36512.0</td>\n",
       "      <td>natural gas</td>\n",
       "      <td>Coal = 1118.5 MW, Natural Gas = 1296.2 MW</td>\n",
       "      <td>Conventional Steam Coal; Natural Gas Fired Com...</td>\n",
       "      <td>2569.5</td>\n",
       "      <td>2414.7</td>\n",
       "      <td>NaN</td>\n",
       "      <td>NaN</td>\n",
       "      <td>1118.5</td>\n",
       "      <td>NaN</td>\n",
       "      <td>NaN</td>\n",
       "      <td>NaN</td>\n",
       "      <td>1296.2</td>\n",
       "      <td>NaN</td>\n",
       "      <td>NaN</td>\n",
       "      <td>NaN</td>\n",
       "      <td>NaN</td>\n",
       "      <td>NaN</td>\n",
       "      <td>EIA-860, EIA-860M and EIA-923</td>\n",
       "      <td>202305.0</td>\n",
       "      <td>-88.010300</td>\n",
       "      <td>31.006900</td>\n",
       "    </tr>\n",
       "  </tbody>\n",
       "</table>\n",
       "</div>"
      ],
      "text/plain": [
       "  objectid plant_code    plant_name utility_id  \\\n",
       "0    11570          1    Sand Point      63560   \n",
       "1    11571          2  Bankhead Dam        195   \n",
       "2    11572          3         Barry        195   \n",
       "\n",
       "                     utility_name       sector_name       street_address  \\\n",
       "0  TDX Sand Point Generating, LLC  Electric Utility  100 Power Plant Way   \n",
       "1                Alabama Power Co  Electric Utility   19001 Lock 17 Road   \n",
       "2                Alabama Power Co  Electric Utility     North Highway 43   \n",
       "\n",
       "         city          county    state      zip     primsource  \\\n",
       "0  Sand Point  Aleutians East   Alaska  99661.0      petroleum   \n",
       "1   Northport      Tuscaloosa  Alabama  35476.0  hydroelectric   \n",
       "2       Bucks          Mobile  Alabama  36512.0    natural gas   \n",
       "\n",
       "                                 source_desc  \\\n",
       "0          Petroleum = 1.3 MW, Wind = 0.4 MW   \n",
       "1                      Hydroelectric = 53 MW   \n",
       "2  Coal = 1118.5 MW, Natural Gas = 1296.2 MW   \n",
       "\n",
       "                                           tech_desc  install_mw  total_mw  \\\n",
       "0           Petroleum Liquids; Onshore Wind Turbine;         3.7       1.7   \n",
       "1                         Conventional Hydroelectric        53.9      53.0   \n",
       "2  Conventional Steam Coal; Natural Gas Fired Com...      2569.5    2414.7   \n",
       "\n",
       "   bat_mw  bio_mw  coal_mw  geo_mw  hydro_mw  hydrops_mw   ng_mw nuclear_mw  \\\n",
       "0     NaN     NaN      NaN     NaN       NaN         NaN     NaN        NaN   \n",
       "1     NaN     NaN      NaN     NaN      53.0         NaN     NaN        NaN   \n",
       "2     NaN     NaN   1118.5     NaN       NaN         NaN  1296.2        NaN   \n",
       "\n",
       "   crude_mw  solar_mw  wind_mw  other_mw                         source  \\\n",
       "0       1.3       NaN      0.4       NaN  EIA-860, EIA-860M and EIA-923   \n",
       "1       NaN       NaN      NaN       NaN  EIA-860, EIA-860M and EIA-923   \n",
       "2       NaN       NaN      NaN       NaN  EIA-860, EIA-860M and EIA-923   \n",
       "\n",
       "     period   longitude   latitude  \n",
       "0  202305.0 -160.497222  55.339722  \n",
       "1  202305.0  -87.356823  33.458665  \n",
       "2  202305.0  -88.010300  31.006900  "
      ]
     },
     "execution_count": 14,
     "metadata": {},
     "output_type": "execute_result"
    }
   ],
   "source": [
    "# Import power plants data\n",
    "URL = 'https://raw.githubusercontent.com/carmengg/eds-220-book/refs/heads/main/data/power_plants_epsg4269.csv'\n",
    "power_plants = pd.read_csv(URL)\n",
    "\n",
    "# Simpify column names\n",
    "power_plants.columns = power_plants.columns.str.lower()\n",
    "\n",
    "# Drop first column\n",
    "power_plants = power_plants.drop(columns='unnamed: 0')\n",
    "\n",
    "power_plants.head(3)"
   ]
  },
  {
   "cell_type": "code",
   "execution_count": 15,
   "id": "fbfa2c81",
   "metadata": {},
   "outputs": [
    {
     "data": {
      "text/html": [
       "<div>\n",
       "<style scoped>\n",
       "    .dataframe tbody tr th:only-of-type {\n",
       "        vertical-align: middle;\n",
       "    }\n",
       "\n",
       "    .dataframe tbody tr th {\n",
       "        vertical-align: top;\n",
       "    }\n",
       "\n",
       "    .dataframe thead th {\n",
       "        text-align: right;\n",
       "    }\n",
       "</style>\n",
       "<table border=\"1\" class=\"dataframe\">\n",
       "  <thead>\n",
       "    <tr style=\"text-align: right;\">\n",
       "      <th></th>\n",
       "      <th>region</th>\n",
       "      <th>division</th>\n",
       "      <th>statefp</th>\n",
       "      <th>statens</th>\n",
       "      <th>geoid</th>\n",
       "      <th>stusps</th>\n",
       "      <th>name</th>\n",
       "      <th>lsad</th>\n",
       "      <th>mtfcc</th>\n",
       "      <th>funcstat</th>\n",
       "      <th>aland</th>\n",
       "      <th>awater</th>\n",
       "      <th>intptlat</th>\n",
       "      <th>intptlon</th>\n",
       "      <th>geometry</th>\n",
       "    </tr>\n",
       "  </thead>\n",
       "  <tbody>\n",
       "    <tr>\n",
       "      <th>0</th>\n",
       "      <td>3</td>\n",
       "      <td>5</td>\n",
       "      <td>54</td>\n",
       "      <td>01779805</td>\n",
       "      <td>54</td>\n",
       "      <td>WV</td>\n",
       "      <td>West Virginia</td>\n",
       "      <td>00</td>\n",
       "      <td>G4000</td>\n",
       "      <td>A</td>\n",
       "      <td>62266456923</td>\n",
       "      <td>489045863</td>\n",
       "      <td>+38.6472854</td>\n",
       "      <td>-080.6183274</td>\n",
       "      <td>POLYGON ((-77.75438 39.33346, -77.75422 39.333...</td>\n",
       "    </tr>\n",
       "    <tr>\n",
       "      <th>1</th>\n",
       "      <td>3</td>\n",
       "      <td>5</td>\n",
       "      <td>12</td>\n",
       "      <td>00294478</td>\n",
       "      <td>12</td>\n",
       "      <td>FL</td>\n",
       "      <td>Florida</td>\n",
       "      <td>00</td>\n",
       "      <td>G4000</td>\n",
       "      <td>A</td>\n",
       "      <td>138962819934</td>\n",
       "      <td>45971472526</td>\n",
       "      <td>+28.3989775</td>\n",
       "      <td>-082.5143005</td>\n",
       "      <td>MULTIPOLYGON (((-83.10874 24.62949, -83.10711 ...</td>\n",
       "    </tr>\n",
       "    <tr>\n",
       "      <th>2</th>\n",
       "      <td>2</td>\n",
       "      <td>3</td>\n",
       "      <td>17</td>\n",
       "      <td>01779784</td>\n",
       "      <td>17</td>\n",
       "      <td>IL</td>\n",
       "      <td>Illinois</td>\n",
       "      <td>00</td>\n",
       "      <td>G4000</td>\n",
       "      <td>A</td>\n",
       "      <td>143778515726</td>\n",
       "      <td>6216539665</td>\n",
       "      <td>+40.1028754</td>\n",
       "      <td>-089.1526108</td>\n",
       "      <td>POLYGON ((-87.89243 38.28285, -87.89334 38.282...</td>\n",
       "    </tr>\n",
       "    <tr>\n",
       "      <th>3</th>\n",
       "      <td>2</td>\n",
       "      <td>4</td>\n",
       "      <td>27</td>\n",
       "      <td>00662849</td>\n",
       "      <td>27</td>\n",
       "      <td>MN</td>\n",
       "      <td>Minnesota</td>\n",
       "      <td>00</td>\n",
       "      <td>G4000</td>\n",
       "      <td>A</td>\n",
       "      <td>206244837557</td>\n",
       "      <td>18937184315</td>\n",
       "      <td>+46.3159573</td>\n",
       "      <td>-094.1996043</td>\n",
       "      <td>POLYGON ((-95.31989 48.99892, -95.31747 48.998...</td>\n",
       "    </tr>\n",
       "    <tr>\n",
       "      <th>4</th>\n",
       "      <td>3</td>\n",
       "      <td>5</td>\n",
       "      <td>24</td>\n",
       "      <td>01714934</td>\n",
       "      <td>24</td>\n",
       "      <td>MD</td>\n",
       "      <td>Maryland</td>\n",
       "      <td>00</td>\n",
       "      <td>G4000</td>\n",
       "      <td>A</td>\n",
       "      <td>25151771744</td>\n",
       "      <td>6979295311</td>\n",
       "      <td>+38.9466584</td>\n",
       "      <td>-076.6744939</td>\n",
       "      <td>POLYGON ((-75.75600 39.24607, -75.75579 39.243...</td>\n",
       "    </tr>\n",
       "  </tbody>\n",
       "</table>\n",
       "</div>"
      ],
      "text/plain": [
       "  region division statefp   statens geoid stusps           name lsad  mtfcc  \\\n",
       "0      3        5      54  01779805    54     WV  West Virginia   00  G4000   \n",
       "1      3        5      12  00294478    12     FL        Florida   00  G4000   \n",
       "2      2        3      17  01779784    17     IL       Illinois   00  G4000   \n",
       "3      2        4      27  00662849    27     MN      Minnesota   00  G4000   \n",
       "4      3        5      24  01714934    24     MD       Maryland   00  G4000   \n",
       "\n",
       "  funcstat         aland       awater     intptlat      intptlon  \\\n",
       "0        A   62266456923    489045863  +38.6472854  -080.6183274   \n",
       "1        A  138962819934  45971472526  +28.3989775  -082.5143005   \n",
       "2        A  143778515726   6216539665  +40.1028754  -089.1526108   \n",
       "3        A  206244837557  18937184315  +46.3159573  -094.1996043   \n",
       "4        A   25151771744   6979295311  +38.9466584  -076.6744939   \n",
       "\n",
       "                                            geometry  \n",
       "0  POLYGON ((-77.75438 39.33346, -77.75422 39.333...  \n",
       "1  MULTIPOLYGON (((-83.10874 24.62949, -83.10711 ...  \n",
       "2  POLYGON ((-87.89243 38.28285, -87.89334 38.282...  \n",
       "3  POLYGON ((-95.31989 48.99892, -95.31747 48.998...  \n",
       "4  POLYGON ((-75.75600 39.24607, -75.75579 39.243...  "
      ]
     },
     "execution_count": 15,
     "metadata": {},
     "output_type": "execute_result"
    }
   ],
   "source": [
    "# Import states data\n",
    "fp = os.path.join('data',\"tiger_2022_us_state\",'tl_2022_us_state.shp')\n",
    "states = gpd.read_file(fp)\n",
    "\n",
    "# Simplify\n",
    "states.columns = states.columns.str.lower()\n",
    "\n",
    "\n",
    "states.head()"
   ]
  },
  {
   "cell_type": "markdown",
   "id": "d32089d6",
   "metadata": {},
   "source": [
    "# CSV to geopandas dataframe\n",
    "geopandas doesnt have a way to extract the geometry column from the csv. \n",
    "Use the long and lat"
   ]
  },
  {
   "cell_type": "code",
   "execution_count": 16,
   "id": "f1de4b24",
   "metadata": {},
   "outputs": [
    {
     "data": {
      "text/plain": [
       "0        POINT (-160.49722 55.33972)\n",
       "1         POINT (-87.35682 33.45867)\n",
       "2         POINT (-88.01030 31.00690)\n",
       "3         POINT (-86.28306 32.58389)\n",
       "4        POINT (-106.37500 31.75690)\n",
       "                    ...             \n",
       "12004     POINT (-82.37595 35.38014)\n",
       "12005     POINT (-79.36770 36.00932)\n",
       "12006     POINT (-79.73631 35.27343)\n",
       "12007     POINT (-73.91048 42.87657)\n",
       "12008     POINT (-77.27590 41.83800)\n",
       "Name: geometry, Length: 12009, dtype: geometry"
      ]
     },
     "execution_count": 16,
     "metadata": {},
     "output_type": "execute_result"
    }
   ],
   "source": [
    "# Create points from latitude and longitude\n",
    "points = gpd.points_from_xy(power_plants.longitude, \n",
    "                            power_plants.latitude)\n",
    "\n",
    "# Create geodataframe\n",
    "power_plants = gpd.GeoDataFrame(power_plants,    # Data\n",
    "                                geometry=points, # Specify geometry column\n",
    "                                crs='EPSG:4269'  # Specify CRS\n",
    "                                )\n",
    "power_plants['geometry']"
   ]
  },
  {
   "cell_type": "markdown",
   "id": "a0d93db0",
   "metadata": {},
   "source": [
    "With the geometry column and CRS, we can plot our dataset."
   ]
  },
  {
   "cell_type": "code",
   "execution_count": 17,
   "id": "c159ada4",
   "metadata": {},
   "outputs": [
    {
     "data": {
      "text/plain": [
       "<Axes: >"
      ]
     },
     "execution_count": 17,
     "metadata": {},
     "output_type": "execute_result"
    },
    {
     "data": {
      "image/png": "[encoded data removed]",
      "text/plain": [
       "<Figure size 640x480 with 1 Axes>"
      ]
     },
     "metadata": {},
     "output_type": "display_data"
    }
   ],
   "source": [
    "power_plants.plot()"
   ]
  },
  {
   "cell_type": "markdown",
   "id": "c8f0bb27",
   "metadata": {},
   "source": [
    "# f-strings\n",
    "\n",
    "So far, we have printed variables using string concatenation inside the print() function. This means that we write commas between every string and variable we want to print, and then the print() function concatenates these into a single string. For example:"
   ]
  },
  {
   "cell_type": "code",
   "execution_count": 18,
   "id": "aa96d9ca",
   "metadata": {},
   "outputs": [
    {
     "name": "stdout",
     "output_type": "stream",
     "text": [
      "CRS:  EPSG:4269\n"
     ]
    }
   ],
   "source": [
    "print('CRS: ', power_plants.crs)"
   ]
  },
  {
   "cell_type": "markdown",
   "id": "314bc4e0",
   "metadata": {},
   "source": [
    "Another popular way of mixing strings and variables in print statements is by creating an **f-string** which stands for “formatted string”. The simplest syntax for an f-string is:"
   ]
  },
  {
   "cell_type": "markdown",
   "id": "4f01ef1b",
   "metadata": {},
   "source": [
    "`f\"some text {replace}\"`"
   ]
  },
  {
   "cell_type": "markdown",
   "id": "94ef37cc",
   "metadata": {},
   "source": [
    "where replace can be a variable, an expression, or a function or method call. For example"
   ]
  },
  {
   "cell_type": "code",
   "execution_count": 19,
   "id": "edbbe269",
   "metadata": {},
   "outputs": [
    {
     "name": "stdout",
     "output_type": "stream",
     "text": [
      "ellipsoid: GRS 1980\n",
      "datum: North American Datum 1983\n"
     ]
    }
   ],
   "source": [
    "# Explore CRS\n",
    "print(f\"ellipsoid: {power_plants.crs.ellipsoid}\")\n",
    "print(f\"datum: {power_plants.crs.datum}\")"
   ]
  },
  {
   "cell_type": "markdown",
   "id": "6ef528a9",
   "metadata": {},
   "source": [
    "One of the advantages of using f-strings is that they offer customization for formatting the output:"
   ]
  },
  {
   "cell_type": "code",
   "execution_count": 20,
   "id": "e1debb4f",
   "metadata": {},
   "outputs": [
    {
     "name": "stdout",
     "output_type": "stream",
     "text": [
      "Is the CRS geographic?:   True\n",
      "Is the CRS projected?:    False\n"
     ]
    }
   ],
   "source": [
    "# Set the label width to 25 characters, aligning the answers\n",
    "print(f\"{'Is the CRS geographic?:':<25} {power_plants.crs.is_geographic}\")\n",
    "print(f\"{'Is the CRS projected?:':<25} {power_plants.crs.is_projected}\")"
   ]
  },
  {
   "cell_type": "markdown",
   "id": "cd9ea8ec",
   "metadata": {},
   "source": [
    "obtain some preliminary geospatial information about the states geodataframe:"
   ]
  },
  {
   "cell_type": "code",
   "execution_count": 21,
   "id": "e4e5c224",
   "metadata": {},
   "outputs": [
    {
     "name": "stdout",
     "output_type": "stream",
     "text": [
      "EPSG:4269\n"
     ]
    },
    {
     "data": {
      "text/plain": [
       "<Axes: >"
      ]
     },
     "execution_count": 21,
     "metadata": {},
     "output_type": "execute_result"
    },
    {
     "data": {
      "image/png": "[encoded data removed]",
      "text/plain": [
       "<Figure size 640x480 with 1 Axes>"
      ]
     },
     "metadata": {},
     "output_type": "display_data"
    }
   ],
   "source": [
    "print(states.crs)\n",
    "states.plot()"
   ]
  },
  {
   "cell_type": "markdown",
   "id": "fcdf2037",
   "metadata": {},
   "source": [
    "`for` **loops**"
   ]
  },
  {
   "cell_type": "markdown",
   "id": "59e7c6d9",
   "metadata": {},
   "source": [
    "It can be easier to work with the codes as numbers instead of strings, so let’s update the corresponding columns in the states geo-dataframe. We start by checking the data type of the region, division, and statefp columns:"
   ]
  },
  {
   "cell_type": "code",
   "execution_count": 22,
   "id": "2bcbf760",
   "metadata": {},
   "outputs": [
    {
     "name": "stdout",
     "output_type": "stream",
     "text": [
      "region is string dtype? True\n",
      "division is string dtype? True\n",
      "statefp is string dtype? True\n"
     ]
    }
   ],
   "source": [
    "code_cols = ['region', 'division', 'statefp']\n",
    "\n",
    "# Check whether codes columns are strings\n",
    "for column in code_cols: print(f\"{column} is string dtype? {is_string_dtype(states[column])}\")"
   ]
  },
  {
   "cell_type": "markdown",
   "id": "94e989bf",
   "metadata": {},
   "source": [
    "`assert`\n",
    "Next, we update the data type of the code columns to be integers. This time, we check the data type of the column using the is_numeric_dtype() function inside an assert statement:"
   ]
  },
  {
   "cell_type": "code",
   "execution_count": 23,
   "id": "b73b76ff",
   "metadata": {},
   "outputs": [],
   "source": [
    "# Update code columns into integers\n",
    "for column in code_cols:\n",
    "    states[column] = states[column].astype('int')\n",
    "    assert is_numeric_dtype(states[column])  # Check conversion"
   ]
  },
  {
   "cell_type": "code",
   "execution_count": 24,
   "id": "04906983",
   "metadata": {},
   "outputs": [
    {
     "ename": "AssertionError",
     "evalue": "",
     "output_type": "error",
     "traceback": [
      "\u001b[31m---------------------------------------------------------------------------\u001b[39m",
      "\u001b[31mAssertionError\u001b[39m                            Traceback (most recent call last)",
      "\u001b[36mCell\u001b[39m\u001b[36m \u001b[39m\u001b[32mIn[24]\u001b[39m\u001b[32m, line 5\u001b[39m\n\u001b[32m      2\u001b[39m \u001b[38;5;28;01massert\u001b[39;00m \u001b[32m2\u001b[39m+\u001b[32m2\u001b[39m == \u001b[32m4\u001b[39m\n\u001b[32m      4\u001b[39m \u001b[38;5;66;03m# Raises an error if statement is False\u001b[39;00m\n\u001b[32m----> \u001b[39m\u001b[32m5\u001b[39m \u001b[38;5;28;01massert\u001b[39;00m \u001b[32m2\u001b[39m+\u001b[32m2\u001b[39m == \u001b[32m3\u001b[39m\n",
      "\u001b[31mAssertionError\u001b[39m: "
     ]
    }
   ],
   "source": [
    "# Does nothing if statement is True\n",
    "assert 2+2 == 4\n",
    "\n",
    "# Raises an error if statement is False\n",
    "assert 2+2 == 3"
   ]
  },
  {
   "cell_type": "markdown",
   "id": "0cbdc59b",
   "metadata": {},
   "source": [
    "# Data  Selection\n",
    "For this lesson, we want to use only the contiguous states. As seen in the plot, the data covers a bigger extension."
   ]
  },
  {
   "cell_type": "markdown",
   "id": "93634c91",
   "metadata": {},
   "source": [
    "#### Check-in\n",
    "- What are the unique values for region, division, or state codes in the data?\n",
    "- Which codes should should we select to keep only states in the contiguous US?"
   ]
  },
  {
   "cell_type": "code",
   "execution_count": null,
   "id": "49d3979e",
   "metadata": {},
   "outputs": [],
   "source": [
    "# Update code columns into integers\n",
    "\n",
    "print(states['region'].unique())\n",
    "print(states.statefp.unique())"
   ]
  },
  {
   "cell_type": "markdown",
   "id": "df78b522",
   "metadata": {},
   "source": [
    "Remove region 9 or division 0.\n",
    "Hawaii and Alaska have codes 2 and 15."
   ]
  },
  {
   "cell_type": "markdown",
   "id": "4e8d9dbd",
   "metadata": {},
   "source": [
    "The `~` tilde symbol is used in Python to negate a statement. So the previous line could be read as “the values in df’s column which are not in the list [val1, val2, val3].”"
   ]
  },
  {
   "cell_type": "code",
   "execution_count": null,
   "id": "53143161",
   "metadata": {},
   "outputs": [],
   "source": [
    "# Select contiguous US states\n",
    "contiguous = states[(states.region!=9) & (~states.statefp.isin([2,15]))]\n",
    "contiguous.plot()"
   ]
  },
  {
   "cell_type": "markdown",
   "id": "6130ff9e",
   "metadata": {},
   "source": [
    "## Check-in\n",
    "Select the data in the `power_plants` data frame for the contiguous US states"
   ]
  },
  {
   "cell_type": "code",
   "execution_count": null,
   "id": "1440364f",
   "metadata": {},
   "outputs": [],
   "source": [
    "power_plants.state.unique() "
   ]
  },
  {
   "cell_type": "code",
   "execution_count": null,
   "id": "83c53181",
   "metadata": {},
   "outputs": [],
   "source": [
    "power_plants = power_plants[~power_plants.state.isin(['Hawaii','Puerto Rico','Alaska'])]"
   ]
  },
  {
   "cell_type": "markdown",
   "id": "5e30ef98",
   "metadata": {},
   "source": [
    "# Plotting"
   ]
  },
  {
   "cell_type": "code",
   "execution_count": null,
   "id": "17990557",
   "metadata": {},
   "outputs": [],
   "source": [
    "contiguous.crs == power_plants.crs"
   ]
  },
  {
   "cell_type": "code",
   "execution_count": null,
   "id": "22796cbd",
   "metadata": {},
   "outputs": [],
   "source": [
    "fig, ax = plt.subplots(figsize=(9, 5)) # Update figure size\n",
    "\n",
    "# Remove the axis for a cleaner map\n",
    "ax.axis('off')\n",
    "\n",
    "# Title for the plot\n",
    "ax.set_title('Operable electric generating plants in the contiguous United States', \n",
    "              fontsize=15)\n",
    "\n",
    "# Add states\n",
    "contiguous.plot(ax=ax,\n",
    "               color='none',\n",
    "               edgecolor='#362312')\n",
    "\n",
    "# Add electric power plants colored by energy source\n",
    "power_plants.plot(ax=ax, \n",
    "                  column='primsource', # Used to color each point\n",
    "                  legend=True,\n",
    "                  markersize=4,\n",
    "                  cmap='tab20',\n",
    "                  alpha=0.5,\n",
    "                  legend_kwds={\n",
    "                      'title': 'Primary energy source',\n",
    "                      'title_fontsize': 'small',\n",
    "                      'fontsize': 'small',\n",
    "                      'loc': 'upper left',\n",
    "                      'bbox_to_anchor': (0, 0),\n",
    "                      'ncol': 6  \n",
    "                  })\n",
    "                  \n",
    "plt.show()"
   ]
  },
  {
   "cell_type": "markdown",
   "id": "43b8989b",
   "metadata": {},
   "source": [
    "# for with zip\n",
    "Often, we need to iterate simultaneously over two lists (or other iterables). The zip() function in Python allows you to combine two or more lists (or other iterables) so that you can iterate over their elements in pairs. When used with a for loop, it lets you process elements from each list together, like this example:\n"
   ]
  },
  {
   "cell_type": "code",
   "execution_count": null,
   "id": "6e15ce49",
   "metadata": {},
   "outputs": [],
   "source": [
    "numbers = [1, 2, 3]\n",
    "for num in numbers:\n",
    "    print(num)\n",
    "\n",
    "print('\\n')  # Blank line\n",
    "\n",
    "# Iterate over two lists in pairs using zip()\n",
    "letters = ['a', 'b', 'c']\n",
    "for num, letter in zip(numbers, letters):\n",
    "    print(num, letter)"
   ]
  },
  {
   "cell_type": "markdown",
   "id": "adfe2d0f",
   "metadata": {},
   "source": [
    "Let’s see a practical application of for loops and zip() with matplotlib subplots. A common situation when code gets repeated is when creating subplots. For example:"
   ]
  },
  {
   "cell_type": "code",
   "execution_count": null,
   "id": "8b24002d",
   "metadata": {},
   "outputs": [],
   "source": [
    "fig, axes = plt.subplots(nrows=1, ncols=3, figsize=(7, 3))\n",
    "\n",
    "axes[0].set_title('This is axis 0')\n",
    "axes[1].set_title('This is axis 1')\n",
    "axes[2].set_title('This is axis 2')\n",
    "\n",
    "plt.show()"
   ]
  },
  {
   "cell_type": "code",
   "execution_count": null,
   "id": "a080e606",
   "metadata": {},
   "outputs": [],
   "source": [
    "fig, axes = plt.subplots(nrows=1, ncols=3, figsize=(7, 3))\n",
    "\n",
    "for ax, i in zip(axes, [0,1,2]):\n",
    "    ax.set_title(f'This is axis {i}')\n",
    "\n",
    "plt.show()"
   ]
  },
  {
   "cell_type": "markdown",
   "id": "1bfc5cf5",
   "metadata": {},
   "source": [
    "- Select the power plants in California in a variable named ca_power_plants.\n",
    "\n",
    "- Create a list named top_sources with California’s top 3 electric primary sources.\n",
    "\n",
    "- Isolate the California state boundary in a variable named ca_boundary."
   ]
  },
  {
   "cell_type": "code",
   "execution_count": 25,
   "id": "ecab6848",
   "metadata": {},
   "outputs": [],
   "source": [
    "# Select power plants in CA\n",
    "ca_power_plants = power_plants[power_plants.state.isin(['California'])]"
   ]
  },
  {
   "cell_type": "code",
   "execution_count": 26,
   "id": "cdc3e8f2",
   "metadata": {},
   "outputs": [],
   "source": [
    "# List of top sources \n",
    "top_sources = ['solar','natural gas','hydroelectric']"
   ]
  },
  {
   "cell_type": "code",
   "execution_count": 27,
   "id": "fb00d7af",
   "metadata": {},
   "outputs": [],
   "source": [
    "# CA boundary\n",
    "ca_boundary = states[states.name == 'California']"
   ]
  },
  {
   "cell_type": "code",
   "execution_count": 29,
   "id": "d459db78",
   "metadata": {},
   "outputs": [
    {
     "data": {
      "image/png": "[encoded data removed]",
      "text/plain": [
       "<Figure size 1200x600 with 3 Axes>"
      ]
     },
     "metadata": {},
     "output_type": "display_data"
    }
   ],
   "source": [
    "# Recreate plots\n",
    "fig, ax = plt.subplots(nrows=1, ncols=3, figsize=(12, 6))\n",
    "\n",
    "for ax, i in zip(ax, top_sources):\n",
    "    plt.title('Top 3 energy sources for electric power plants in CA')\n",
    "    ax.set_title(i)\n",
    "    ax.axis('off')\n",
    "    \n",
    "    ca_boundary.plot(ax=ax,\n",
    "               color='none',\n",
    "               edgecolor='#362312')\n",
    "    # Add electric power plants colored by energy source\n",
    "    ca_power_plants[ca_power_plants['primsource'] == i].plot(ax=ax,\n",
    "                  markersize=4,\n",
    "                  alpha=0.5)\n",
    "                  \n",
    "plt.show()"
   ]
  },
  {
   "cell_type": "code",
   "execution_count": null,
   "id": "a8b0d205",
   "metadata": {},
   "outputs": [],
   "source": []
  }
 ],
 "metadata": {
  "kernelspec": {
   "display_name": "EDS-220 env",
   "language": "python",
   "name": "eds220-env"
  },
  "language_info": {
   "codemirror_mode": {
    "name": "ipython",
    "version": 3
   },
   "file_extension": ".py",
   "mimetype": "text/x-python",
   "name": "python",
   "nbconvert_exporter": "python",
   "pygments_lexer": "ipython3",
   "version": "3.11.4"
  }
 },
 "nbformat": 4,
 "nbformat_minor": 5
}
